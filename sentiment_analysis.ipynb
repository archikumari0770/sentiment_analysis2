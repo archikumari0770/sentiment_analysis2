{
  "nbformat": 4,
  "nbformat_minor": 0,
  "metadata": {
    "colab": {
      "provenance": [],
      "gpuType": "T4",
      "authorship_tag": "ABX9TyNj3lfdtg4ZjyjmsDPExjPA",
      "include_colab_link": true
    },
    "kernelspec": {
      "name": "python3",
      "display_name": "Python 3"
    },
    "language_info": {
      "name": "python"
    },
    "accelerator": "GPU"
  },
  "cells": [
    {
      "cell_type": "markdown",
      "metadata": {
        "id": "view-in-github",
        "colab_type": "text"
      },
      "source": [
        "<a href=\"https://colab.research.google.com/github/archikumari0770/sentiment_analysis2/blob/main/sentiment_analysis.ipynb\" target=\"_parent\"><img src=\"https://colab.research.google.com/assets/colab-badge.svg\" alt=\"Open In Colab\"/></a>"
      ]
    },
    {
      "cell_type": "code",
      "execution_count": null,
      "metadata": {
        "id": "VnCvNqGxPYxg"
      },
      "outputs": [],
      "source": [
        "# Import necessary libraries\n",
        "import numpy as np\n",
        "import pandas as pd\n",
        "import matplotlib.pyplot as plt\n",
        "import seaborn as sns\n",
        "import nltk\n",
        "from nltk.sentiment import SentimentIntensityAnalyzer\n",
        "from tqdm import tqdm\n",
        "\n",
        "# Download NLTK data\n",
        "nltk.download('vader_lexicon')\n",
        "\n",
        "# Initialize the VADER sentiment analyzer\n",
        "sia = SentimentIntensityAnalyzer()\n",
        "\n",
        "# Example text\n",
        "text = \"I love this product! It's amazing and works perfectly.\"\n",
        "\n",
        "# Get sentiment scores\n",
        "sentiment = sia.polarity_scores(text)\n",
        "\n",
        "print(sentiment)"
      ]
    },
    {
      "cell_type": "code",
      "source": [
        "!pip install transformers\n",
        "\n",
        "from transformers import pipeline\n",
        "\n",
        "# Load the sentiment analysis pipeline\n",
        "sentiment_pipeline = pipeline(\"sentiment-analysis\")\n",
        "\n",
        "# Analyze sentiment\n",
        "result = sentiment_pipeline(\"I hate when my phone battery dies quickly\")[0]\n",
        "print(f\"Label: {result['label']}, with score: {round(result['score'], 4)}\")\n"
      ],
      "metadata": {
        "id": "P8L8UlDwPtB5"
      },
      "execution_count": null,
      "outputs": []
    },
    {
      "cell_type": "code",
      "source": [
        "# Load a sample dataset\n",
        "!pip install datasets\n",
        "from datasets import load_dataset\n",
        "from tqdm import tqdm # Import tqdm here\n",
        "\n",
        "# Load the IMDb reviews dataset\n",
        "dataset = load_dataset(\"imdb\")\n",
        "train_data = dataset[\"train\"]\n",
        "test_data = dataset[\"test\"]\n",
        "\n",
        "# Let's look at one example\n",
        "print(train_data[0])\n",
        "\n",
        "# Function to get sentiment\n",
        "def get_sentiment(text):\n",
        "    # Truncate text to the maximum length the model can handle (usually 512 for this model)\n",
        "    max_len = 512\n",
        "    truncated_text = text[:max_len]\n",
        "    result = sentiment_pipeline(truncated_text)[0]\n",
        "    return result['label'], result['score']\n",
        "\n",
        "# Apply to a sample of the dataset\n",
        "sample_size = 100\n",
        "results = []\n",
        "for i in tqdm(range(sample_size)):\n",
        "    text = train_data[i]['text']\n",
        "    label = train_data[i]['label']\n",
        "    pred_label, pred_score = get_sentiment(text)\n",
        "    results.append({\n",
        "        'text': text[:100] + \"...\",  # Show first 100 chars\n",
        "        'true_label': 'positive' if label == 1 else 'negative',\n",
        "        'pred_label': pred_label,\n",
        "        'pred_score': pred_score\n",
        "    })\n",
        "\n",
        "# Convert to DataFrame\n",
        "results_df = pd.DataFrame(results)\n",
        "print(results_df.head())"
      ],
      "metadata": {
        "id": "hH_RiG5VQ0W1"
      },
      "execution_count": null,
      "outputs": []
    },
    {
      "cell_type": "code",
      "source": [
        "!pip install fsspec==2023.9.0  # Downgrade to a stable version\n"
      ],
      "metadata": {
        "id": "TuAx6dTHUC8a"
      },
      "execution_count": null,
      "outputs": []
    },
    {
      "cell_type": "code",
      "source": [
        "from sklearn.metrics import confusion_matrix, accuracy_score\n",
        "import seaborn as sns\n",
        "import matplotlib.pyplot as plt\n",
        "\n",
        "# Convert labels to numerical (0=negative, 1=positive)\n",
        "results_df['true_num'] = results_df['true_label'].apply(lambda x: 1 if x == 'positive' else 0)\n",
        "results_df['pred_num'] = results_df['pred_label'].apply(lambda x: 1 if x == 'POSITIVE' else 0)\n",
        "\n",
        "# Compute accuracy\n",
        "accuracy = accuracy_score(results_df['true_num'], results_df['pred_num'])\n",
        "print(f\"Accuracy: {accuracy:.2f}\")\n",
        "\n",
        "# Plot confusion matrix\n",
        "cm = confusion_matrix(results_df['true_num'], results_df['pred_num'])\n",
        "sns.heatmap(cm, annot=True, fmt='d', cmap='Blues')\n",
        "plt.xlabel('Predicted')\n",
        "plt.ylabel('Actual')\n",
        "plt.title('Confusion Matrix')\n",
        "plt.show()"
      ],
      "metadata": {
        "id": "-3lOz9UVUENM"
      },
      "execution_count": null,
      "outputs": []
    },
    {
      "cell_type": "code",
      "source": [
        "from transformers import AutoTokenizer, AutoModelForSequenceClassification\n",
        "from transformers import Trainer, TrainingArguments\n",
        "import torch\n",
        "\n",
        "# Load tokenizer and model\n",
        "model_name = \"distilbert-base-uncased\"\n",
        "tokenizer = AutoTokenizer.from_pretrained(model_name)\n",
        "model = AutoModelForSequenceClassification.from_pretrained(model_name, num_labels=2)\n",
        "\n",
        "# Tokenize the dataset\n",
        "def tokenize_function(examples):\n",
        "    return tokenizer(examples[\"text\"], padding=\"max_length\", truncation=True)\n",
        "\n",
        "small_train_dataset = train_data.select(range(1000)).map(tokenize_function, batched=True)\n",
        "small_test_dataset = test_data.select(range(1000)).map(tokenize_function, batched=True)\n",
        "\n",
        "# Training arguments\n",
        "training_args = TrainingArguments(\n",
        "    output_dir=\"./results\",\n",
        "    eval_strategy=\"epoch\",\n",
        "    learning_rate=2e-5,\n",
        "    per_device_train_batch_size=16,\n",
        "    per_device_eval_batch_size=16,\n",
        "    num_train_epochs=3,\n",
        "    weight_decay=0.01,\n",
        "    report_to=\"none\",  # Disable Weights & Biases logging\n",
        ")\n",
        "\n",
        "# Initialize Trainer\n",
        "trainer = Trainer(\n",
        "    model=model,\n",
        "    args=training_args,\n",
        "    train_dataset=small_train_dataset,\n",
        "    eval_dataset=small_test_dataset,\n",
        ")\n",
        "\n",
        "# Train the model\n",
        "trainer.train()\n",
        "\n",
        "# Evaluate\n",
        "eval_result = trainer.evaluate()\n",
        "print(f\"Evaluation results: {eval_result}\")\n"
      ],
      "metadata": {
        "id": "5xpzub7RV_ub"
      },
      "execution_count": null,
      "outputs": []
    },
    {
      "cell_type": "code",
      "source": [
        "test_sentences = [\n",
        "    \"I love this product! It's amazing!\",  # Positive\n",
        "    \"This is the worst experience ever.\",  # Negative\n",
        "    \"The weather is okay today.\",           # Neutral\n",
        "]\n",
        "\n",
        "for sentence in test_sentences:\n",
        "    result = sentiment_pipeline(sentence)[0]\n",
        "    print(f\"Text: {sentence}\")\n",
        "    print(f\"Predicted: {result['label']} (Score: {result['score']:.2f})\\n\")"
      ],
      "metadata": {
        "id": "vD1wTYoVWINV"
      },
      "execution_count": null,
      "outputs": []
    },
    {
      "cell_type": "code",
      "source": [
        "from sklearn.metrics import accuracy_score, classification_report\n",
        "\n",
        "# Example: Test on 100 samples\n",
        "true_labels = []\n",
        "pred_labels = []\n",
        "\n",
        "for i in range(100):\n",
        "    text = test_data[i][\"text\"]\n",
        "    true_label = test_data[i][\"label\"]  # 0=negative, 1=positive\n",
        "\n",
        "    # Truncate text to the model's maximum sequence length\n",
        "    max_len = 512\n",
        "    truncated_text = text[:max_len]\n",
        "\n",
        "    pred_label = sentiment_pipeline(truncated_text)[0][\"label\"]\n",
        "\n",
        "    true_labels.append(true_label)\n",
        "    pred_labels.append(1 if pred_label == \"POSITIVE\" else 0)\n",
        "\n",
        "# Calculate accuracy\n",
        "accuracy = accuracy_score(true_labels, pred_labels)\n",
        "print(f\"Accuracy: {accuracy:.2f}\")\n",
        "\n",
        "# Detailed report\n",
        "print(classification_report(true_labels, pred_labels, target_names=[\"Negative\", \"Positive\"]))"
      ],
      "metadata": {
        "id": "7jh07ZPjiGgG"
      },
      "execution_count": null,
      "outputs": []
    },
    {
      "cell_type": "code",
      "source": [
        "edge_cases = [\n",
        "    \"The movie was not bad.\",               # Negation → Positive\n",
        "    \"Meh, it was okay I guess.\",           # Weak sentiment\n",
        "    \"I hate this, but the design is good.\" # Mixed sentiment\n",
        "]\n",
        "\n",
        "for text in edge_cases:\n",
        "    result = sentiment_pipeline(text)[0]\n",
        "    print(f\"Text: {text}\")\n",
        "    print(f\"Predicted: {result['label']} (Score: {result['score']:.2f})\\n\")"
      ],
      "metadata": {
        "id": "7qpJSM6GiJcV"
      },
      "execution_count": null,
      "outputs": []
    },
    {
      "cell_type": "code",
      "source": [],
      "metadata": {
        "id": "p0m69YkDiYtl"
      },
      "execution_count": null,
      "outputs": []
    }
  ]
}